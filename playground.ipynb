{
 "metadata": {
  "language_info": {
   "codemirror_mode": {
    "name": "ipython",
    "version": 3
   },
   "file_extension": ".py",
   "mimetype": "text/x-python",
   "name": "python",
   "nbconvert_exporter": "python",
   "pygments_lexer": "ipython3",
   "version": 3
  },
  "orig_nbformat": 2
 },
 "nbformat": 4,
 "nbformat_minor": 2,
 "cells": [
  {
   "source": [
    "# KMP algo"
   ],
   "cell_type": "markdown",
   "metadata": {}
  },
  {
   "cell_type": "code",
   "execution_count": null,
   "metadata": {},
   "outputs": [],
   "source": [
    "def compute_lps(pattern):\n",
    "    # Longest Proper Prefix that is suffix array\n",
    "    lps = [0] * len(pattern)\n",
    "\n",
    "    prefi = 0\n",
    "    for i in range(1, len(pattern)):\n",
    "        \n",
    "        # Phase 3: roll the prefix pointer back until match or \n",
    "        # beginning of pattern is reached\n",
    "        while prefi and pattern[i] != pattern[prefi]:\n",
    "            prefi = lps[prefi - 1]\n",
    "\n",
    "        # Phase 2: if match, record the LSP for the current `i`\n",
    "        # and move prefix pointer\n",
    "        if pattern[prefi] == pattern[i]:\n",
    "            prefi += 1\n",
    "            lps[i] = prefi\n",
    "\n",
    "        # Phase 1: is implicit here because of the for loop and \n",
    "        # conditions considered above\n",
    "\n",
    "    return lps\n",
    "\n",
    "def kmp(pattern, text):\n",
    "    match_indices = []\n",
    "    pattern_lps = compute_lps(pattern)\n",
    "\n",
    "    patterni = 0\n",
    "    for i, ch in enumerate(text):\n",
    "        \n",
    "        # Phase 3: if a mismatch was found, roll back the pattern\n",
    "        # index using the information in LPS\n",
    "        while patterni and pattern[patterni] != ch:\n",
    "            patterni = pattern_lps[patterni - 1]\n",
    "\n",
    "        # Phase 2: if match\n",
    "        if pattern[patterni] == ch:\n",
    "            # If the end of a pattern is reached, record a result\n",
    "            # and use infromation in LSP array to shift the index\n",
    "            if patterni == len(pattern) - 1:\n",
    "                match_indices.append(i - patterni)\n",
    "                patterni = pattern_lps[patterni]\n",
    "            \n",
    "            else:\n",
    "                # Move the pattern index forward\n",
    "                patterni += 1\n",
    "\n",
    "        # Phase 1: is implicit here because of the for loop and \n",
    "        # conditions considered above\n",
    "\n",
    "    return match_indices"
   ]
  }
 ]
}